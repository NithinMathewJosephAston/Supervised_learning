{
 "cells": [
  {
   "cell_type": "code",
   "execution_count": 13,
   "id": "a09d4f94",
   "metadata": {},
   "outputs": [],
   "source": [
    "import pandas as pd\n",
    "import matplotlib.pyplot as plt\n",
    "from sklearn.linear_model import LinearRegression\n",
    "from sklearn.model_selection import train_test_split"
   ]
  },
  {
   "cell_type": "code",
   "execution_count": 14,
   "id": "207a4b42",
   "metadata": {},
   "outputs": [
    {
     "data": {
      "image/png": "[encoded data removed]",
      "text/plain": [
       "<Figure size 432x288 with 1 Axes>"
      ]
     },
     "metadata": {
      "needs_background": "light"
     },
     "output_type": "display_data"
    },
    {
     "name": "stdout",
     "output_type": "stream",
     "text": [
      "Intercept: 26.40571405758142\n",
      "Gradient: -17.95952740897864\n",
      "Coefficient of determination: 0.8288557780662539\n"
     ]
    }
   ],
   "source": [
    "def display_results(var1,var2,fitted_instance):\n",
    "    # var1             : Observations\n",
    "    # var2             : Response variable\n",
    "    # fitted_instance  : Fitted model of the linear regression\n",
    "    # return           : Nil\n",
    "    plt.scatter(var1, var2,  color='red')\n",
    "    #scatter plot based on var1 and var2\n",
    "    plt.plot(var1, fitted_instance.predict(var1), color='blue', linewidth=1)\n",
    "    #plotting the fitted line based on the predicted value\n",
    "    plt.show()\n",
    "    #Using format function to display the intercept, slope and coefficient of determination\n",
    "    print('Intercept: {}'.format(fitted_instance.intercept_))\n",
    "    print('Gradient: {}'.format(fitted_instance.coef_[0]))\n",
    "    print('Coefficient of determination: {}'.format(fitted_instance.score(var1,var2)))\n",
    "    \n",
    "if __name__ == '__main__':\n",
    "    df = pd.read_csv('regression1.csv', names=[\"observations\", \"response variable\"])\n",
    "    #converting column separated data into pandas data frame with column headers initialised as \"observations\" and \"response variable\"\n",
    "    X = df['observations'].values.reshape(-1,1)\n",
    "    #converting the column data for \"observations\" to array of array of values\n",
    "    y = df['response variable']\n",
    "    reg = LinearRegression()\n",
    "    #calling the module linear regression and creating an instance of linear regression\n",
    "    reg.fit(X, y)\n",
    "    #using the attribute fit to initialise the values of X and y in linear regression module\n",
    "    display_results(X, y, reg)"
   ]
  },
  {
   "cell_type": "code",
   "execution_count": 15,
   "id": "e55ba273",
   "metadata": {},
   "outputs": [],
   "source": [
    "#Evidence 1 :There are too many outliers from the fitted model figure \n",
    "#Evidence 2 :The coefficient of determination is near to one.\n",
    "#Based on my perspective of what is percieved from the fitted model figure \n",
    "#I do not believe the least square regression here is the best fit due to too many outliers\n",
    "#This statement can be proved further with the train and test data"
   ]
  },
  {
   "cell_type": "code",
   "execution_count": 17,
   "id": "ca321d76",
   "metadata": {},
   "outputs": [
    {
     "data": {
      "image/png": "[encoded data removed]",
      "text/plain": [
       "<Figure size 432x288 with 1 Axes>"
      ]
     },
     "metadata": {
      "needs_background": "light"
     },
     "output_type": "display_data"
    },
    {
     "name": "stdout",
     "output_type": "stream",
     "text": [
      "Intercept: 29.8020367358133\n",
      "Gradient: -17.988094955364843\n",
      "Coefficient of determination: 0.7629165489840666\n"
     ]
    }
   ],
   "source": [
    "#Using 70% data to train the model and 30% to test the data\n",
    "X_train, X_test, y_train, y_test = train_test_split(X, y, test_size=0.3,random_state=42)\n",
    "reg_train = LinearRegression()\n",
    "reg_train.fit(X_train, y_train)\n",
    "display_results(X_test,y_test,reg_train)"
   ]
  },
  {
   "cell_type": "markdown",
   "id": "2b85a0ea",
   "metadata": {},
   "source": [
    "# Observation:\n",
    "### The plot shows outliers of test data against the predicted model. "
   ]
  }
 ],
 "metadata": {
  "kernelspec": {
   "display_name": "Python 3",
   "language": "python",
   "name": "python3"
  },
  "language_info": {
   "codemirror_mode": {
    "name": "ipython",
    "version": 3
   },
   "file_extension": ".py",
   "mimetype": "text/x-python",
   "name": "python",
   "nbconvert_exporter": "python",
   "pygments_lexer": "ipython3",
   "version": "3.8.8"
  }
 },
 "nbformat": 4,
 "nbformat_minor": 5
}
